{
 "cells": [
  {
   "cell_type": "code",
   "execution_count": 1,
   "metadata": {},
   "outputs": [],
   "source": [
    "import pandas as pd\n",
    "import numpy as np"
   ]
  },
  {
   "cell_type": "code",
   "execution_count": 43,
   "metadata": {},
   "outputs": [],
   "source": [
    "names_hTERT = [\n",
    "    'hTERT-TP2-R1',\n",
    "    'hTERT-TP4-R1-1',\n",
    "    'hTERT-TP4-R1-2',\n",
    "    'hTERT-TP5-R1',\n",
    "    'hTERT-TP6-R1'\n",
    "]\n",
    "\n",
    "names_PDL = [\n",
    "    'PDL25-TP2-R1',\n",
    "    'PDL33-TP4-R1',\n",
    "    'PDL37-TP5-R1',\n",
    "    'PDL46-TP6-R1'\n",
    "]\n",
    "chromosomes=['chr1','chr2','chr3','chr4','chr5','chr6','chr7','chr8','chr9','chr10','chr11','chr12','chr13','chr14','chr15','chr16','chr17','chr18','chr19','chr20','chr21','chr22','chrX','chrY','chrM']"
   ]
  },
  {
   "cell_type": "code",
   "execution_count": 65,
   "metadata": {},
   "outputs": [],
   "source": [
    "f=pd.read_csv(\"merged-hTERTs.bed\",sep='\\t',names=['chrom','start','end'])"
   ]
  },
  {
   "cell_type": "code",
   "execution_count": 66,
   "metadata": {},
   "outputs": [],
   "source": [
    "for i in range(5):\n",
    "    for j in range(i+1,5):\n",
    "        col = names_hTERT[i]+names_hTERT[j]\n",
    "        fn = names_hTERT[i]+names_hTERT[j]+\".bed\"\n",
    "        f[col]=0\n",
    "        df = pd.read_csv(fn,sep='\\t',names=['chrom','start','end'])\n",
    "        for c in chromosomes:\n",
    "            s2=df.loc[df['chrom']==c]\n",
    "            s1=f.loc[f['chrom']==c]\n",
    "            for index,r2 in s2.iterrows():\n",
    "                l1=r2['start']\n",
    "                l2=r2['end']\n",
    "                for index,r1 in s1.iterrows():\n",
    "                    if((l1>=r1['start'] and l1<=r1['end']) and (l2>=r1['start'] and l2<=r1['end'])):\n",
    "                        f.loc[index,col]=f.loc[index,col]+1\n"
   ]
  },
  {
   "cell_type": "code",
   "execution_count": 67,
   "metadata": {},
   "outputs": [],
   "source": [
    "f.replace(0,np.nan).dropna().to_csv(\"Counter-hTERTs.tsv\",sep='\\t',index=False)"
   ]
  },
  {
   "cell_type": "code",
   "execution_count": 68,
   "metadata": {},
   "outputs": [],
   "source": [
    "f=pd.read_csv(\"merged-PDLs.bed\",sep='\\t',names=['chrom','start','end'])"
   ]
  },
  {
   "cell_type": "code",
   "execution_count": 69,
   "metadata": {},
   "outputs": [],
   "source": [
    "for i in range(4):\n",
    "    for j in range(i+1,4):\n",
    "        col = names_PDL[i]+names_PDL[j]\n",
    "        fn = col+\".bed\"\n",
    "        f[col]=0\n",
    "        df = pd.read_csv(fn,sep='\\t',names=['chrom','start','end'])\n",
    "        for c in chromosomes:\n",
    "            s2=df.loc[df['chrom']==c]\n",
    "            s1=f.loc[f['chrom']==c]\n",
    "            for index,r2 in s2.iterrows():\n",
    "                l1=r2['start']\n",
    "                l2=r2['end']\n",
    "                for index,r1 in s1.iterrows():\n",
    "                    if((l1>=r1['start'] and l1<=r1['end']) and (l2>=r1['start'] and l2<=r1['end'])):\n",
    "                        f.loc[index,col]=f.loc[index,col]+1"
   ]
  },
  {
   "cell_type": "code",
   "execution_count": 70,
   "metadata": {},
   "outputs": [],
   "source": [
    "f.replace(0,np.nan).dropna().to_csv(\"Counter-PDLs.tsv\",sep='\\t',index=False)"
   ]
  },
  {
   "cell_type": "code",
   "execution_count": 58,
   "metadata": {},
   "outputs": [],
   "source": [
    "f=pd.read_csv(\"merged-all.bed\",sep='\\t',names=['chrom','start','end'])"
   ]
  },
  {
   "cell_type": "code",
   "execution_count": 59,
   "metadata": {},
   "outputs": [],
   "source": [
    "for i in range(4):\n",
    "    for j in range(5):\n",
    "        col = names_hTERT[j]+names_PDL[i]\n",
    "        fn = col+\".bed\"\n",
    "        f[col]=0\n",
    "        df = pd.read_csv(fn,sep='\\t',names=['chrom','start','end'])\n",
    "        for c in chromosomes:\n",
    "            s2=df.loc[df['chrom']==c]\n",
    "            s1=f.loc[f['chrom']==c]\n",
    "            for index,r2 in s2.iterrows():\n",
    "                l1=r2['start']\n",
    "                l2=r2['end']\n",
    "                for index,r1 in s1.iterrows():\n",
    "                    if((l1>=r1['start'] and l1<=r1['end']) and (l2>=r1['start'] and l2<=r1['end'])):\n",
    "                        f.loc[index,col]=f.loc[index,col]+1"
   ]
  },
  {
   "cell_type": "code",
   "execution_count": 64,
   "metadata": {},
   "outputs": [],
   "source": [
    "f.replace(0,np.nan).dropna().to_csv(\"Counter-all.tsv\",sep='\\t',index=False)"
   ]
  }
 ],
 "metadata": {
  "kernelspec": {
   "display_name": "Python 3",
   "language": "python",
   "name": "python3"
  },
  "language_info": {
   "codemirror_mode": {
    "name": "ipython",
    "version": 3
   },
   "file_extension": ".py",
   "mimetype": "text/x-python",
   "name": "python",
   "nbconvert_exporter": "python",
   "pygments_lexer": "ipython3",
   "version": "3.6.9"
  }
 },
 "nbformat": 4,
 "nbformat_minor": 2
}
